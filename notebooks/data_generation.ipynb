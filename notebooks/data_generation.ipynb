{
 "cells": [
  {
   "cell_type": "code",
   "execution_count": 2,
   "metadata": {},
   "outputs": [],
   "source": [
    "import pandas as pd\n",
    "import numpy as np\n",
    "\n",
    "# Generate synthetic data\n",
    "def generate_data(num_samples=1000):\n",
    "    np.random.seed(42)\n",
    "    data = {\n",
    "        'connection_duration': np.random.normal(10, 5, num_samples),\n",
    "        'signal_strength': np.random.normal(-50, 10, num_samples),\n",
    "        'data_transfer_rate': np.random.normal(5, 2, num_samples),\n",
    "        'time_of_day': np.random.randint(0, 24, num_samples),\n",
    "        'intrusion': np.random.randint(0, 2, num_samples)\n",
    "    }\n",
    "    return pd.DataFrame(data)\n",
    "\n",
    "# Save to CSV\n",
    "df = generate_data()\n",
    "df.to_csv('../data/bluetooth_data.csv', index=False)"
   ]
  }
 ],
 "metadata": {
  "kernelspec": {
   "display_name": "venv",
   "language": "python",
   "name": "python3"
  },
  "language_info": {
   "codemirror_mode": {
    "name": "ipython",
    "version": 3
   },
   "file_extension": ".py",
   "mimetype": "text/x-python",
   "name": "python",
   "nbconvert_exporter": "python",
   "pygments_lexer": "ipython3",
   "version": "3.12.1"
  }
 },
 "nbformat": 4,
 "nbformat_minor": 2
}
